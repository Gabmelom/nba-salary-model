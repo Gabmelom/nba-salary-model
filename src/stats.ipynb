{
 "cells": [
  {
   "cell_type": "code",
   "execution_count": 2,
   "metadata": {},
   "outputs": [],
   "source": [
    "import pandas as pd\n",
    "from unidecode import unidecode\n",
    "import os\n",
    "import collections"
   ]
  },
  {
   "cell_type": "code",
   "execution_count": 9,
   "metadata": {},
   "outputs": [],
   "source": [
    "# Path names\n",
    "folder = os.path.dirname(os.getcwd())\n",
    "raw_stats = os.path.join(folder, 'data', 'raw', 'stats')\n",
    "clean_stats = os.path.join(folder, 'data', 'clean', 'stats')"
   ]
  },
  {
   "cell_type": "markdown",
   "metadata": {},
   "source": [
    "Normalize player names with foreign accents. E.g. Luka Dončić -> Luka Doncic"
   ]
  },
  {
   "cell_type": "code",
   "execution_count": 10,
   "metadata": {},
   "outputs": [],
   "source": [
    "# Store dataframes in a dictionary, with the file name as the key\n",
    "dfs = {}\n",
    "\n",
    "for file in os.listdir(raw_stats):\n",
    "    if file.endswith('.csv'):\n",
    "        # Read the file\n",
    "        df = pd.read_csv(os.path.join(raw_stats, file))\n",
    "        # Remove accents from the 'Player' column\n",
    "        df['Player'] = df['Player'].apply(unidecode)\n",
    "\n",
    "        # Save to dictionary\n",
    "        dfs[file] = df\n",
    "        "
   ]
  },
  {
   "cell_type": "markdown",
   "metadata": {},
   "source": [
    "Save all player names for reference"
   ]
  },
  {
   "cell_type": "code",
   "execution_count": 11,
   "metadata": {},
   "outputs": [],
   "source": [
    "players = set()\n",
    "\n",
    "for key in dfs:\n",
    "    players = players.union(dfs[key]['Player'])\n",
    "\n",
    "# Save in file\n",
    "with open('players.txt', 'w') as f:\n",
    "    for player in players:\n",
    "        f.write(player + '\\n')"
   ]
  },
  {
   "cell_type": "markdown",
   "metadata": {},
   "source": [
    "Merge player performance statistics if they played in various teams"
   ]
  },
  {
   "cell_type": "code",
   "execution_count": 12,
   "metadata": {},
   "outputs": [],
   "source": [
    "# Create function to remove duplicates and sum the values\n",
    "def remove_duplicates(df):\n",
    "    # If more than one row has the same rank and player name, merge into one row, summing the values\n",
    "    df = df.groupby(['Rk', 'Player']).sum().reset_index()\n",
    "\n",
    "    # Re-calculate percentage based stats: FG%, 3P%, 2P%, eFG%, FT%\n",
    "    # Round to 3 decimal places\n",
    "    df['FG%'] = (df['FG'] / df['FGA']).round(3)\n",
    "    df['3P%'] = (df['3P'] / df['3PA']).round(3)\n",
    "    df['2P%'] = (df['2P'] / df['2PA']).round(3)\n",
    "    df['eFG%'] = ((df['FG'] + 0.5 * df['3P']) / df['FGA']).round(3)\n",
    "    df['FT%'] = (df['FT'] / df['FTA']).round(3)\n",
    "\n",
    "    return df"
   ]
  },
  {
   "cell_type": "code",
   "execution_count": 13,
   "metadata": {},
   "outputs": [],
   "source": [
    "for file, df in dfs.items():\n",
    "    # Remove duplicates of all dataframes\n",
    "    dfs[file] = remove_duplicates(df)\n",
    "\n",
    "    # Drop column 'Player-additional' if it exists\n",
    "    if 'Player-additional' in dfs[file].columns:\n",
    "        dfs[file].drop('Player-additional', axis=1, inplace=True)\n",
    "\n",
    "    # Print the column names\n",
    "    # print(dfs[file].columns)\n",
    "\n",
    "    # Save to clean directory\n",
    "    dfs[file].to_csv(os.path.join(clean_stats, file), index=False)"
   ]
  },
  {
   "cell_type": "markdown",
   "metadata": {},
   "source": [
    "Check if every player's salary information is available"
   ]
  },
  {
   "cell_type": "code",
   "execution_count": 8,
   "metadata": {},
   "outputs": [
    {
     "name": "stdout",
     "output_type": "stream",
     "text": [
      "      Rk                   Player Pos  Age   Tm   G  GS   MP  FG  FGA  ...  \\\n",
      "4      5          Justin Anderson  SG   26  BRK   3   0   28   5   12  ...   \n",
      "8      9            D.J. Augustin  PG   32  ORL   5   0  128  18   46  ...   \n",
      "9     10               J.J. Barea  PG   35  DAL   1   0    5   0    1  ...   \n",
      "57    58          James Ennis III  SG   29  ORL   5   5  119  12   35  ...   \n",
      "63    64             Enes Freedom   C   27  BOS  11   0  102  22   42  ...   \n",
      "78    79         Tim Hardaway Jr.  SG   27  DAL   6   6  204  40   95  ...   \n",
      "95    96         Danuel House Jr.  SF   26  HOU   9   4  279  37   85  ...   \n",
      "101  102               Wes Iwundu  SF   25  ORL   5   0   76   6   20  ...   \n",
      "106  107             B.J. Johnson  SF   24  ORL   1   0    4   1    2  ...   \n",
      "110  111        Derrick Jones Jr.  SF   22  MIA  15   0   97   8   17  ...   \n",
      "126  127  Timothe Luwawu-Cabarrot  SF   24  BRK   4   3  131  20   59  ...   \n",
      "130  131          Frank Mason III  PG   25  MIL   2   0    2   0    0  ...   \n",
      "133  134           T.J. McConnell  PG   27  IND   3   0   28   3    8  ...   \n",
      "169  170       Michael Porter Jr.  SF   21  DEN  19   3  451  78  164  ...   \n",
      "180  181          Dennis Schroder  PG   26  OKC   7   0  227  44  109  ...   \n",
      "186  187               J.R. Smith  SG   34  LAL  10   0   75   7   26  ...   \n",
      "191  192             Lance Thomas  PF   31  BRK   3   0   17   1    5  ...   \n",
      "194  195           Gary Trent Jr.  SF   21  POR   5   1  153  16   45  ...   \n",
      "195  196              P.J. Tucker  PF   34  HOU  12  12  414  35   88  ...   \n",
      "205  206              T.J. Warren  SF   26  IND   4   4  156  32   68  ...   \n",
      "211  212             Lou Williams  PG   33  LAC  13   0  341  62  146  ...   \n",
      "\n",
      "     DRB  TRB  AST  STL  BLK  TOV  PF  PTS  2019-2020  2019-2020(*)  \n",
      "4      8    8    3    0    1    2   2   19        NaN           NaN  \n",
      "8     10   10   30    1    0   12   6   66        NaN           NaN  \n",
      "9      0    0    0    0    0    1   1    3        NaN           NaN  \n",
      "57    23   29    6    5    2    6  19   35        NaN           NaN  \n",
      "63    24   43    7    0    0    4  19   50        NaN           NaN  \n",
      "78    18   21   11    2    0    3  16  107        NaN           NaN  \n",
      "95    42   52   13    8    0    7  22  103        NaN           NaN  \n",
      "101   10   11    4    3    2    3   5   21        NaN           NaN  \n",
      "106    2    2    0    0    0    0   0    3        NaN           NaN  \n",
      "110    6   12    7    6    5    2  12   22        NaN           NaN  \n",
      "126   14   15    6    3    0    8  14   64        NaN           NaN  \n",
      "130    0    0    1    0    0    0   0    0        NaN           NaN  \n",
      "133    6    6    7    0    0    2   4    7        NaN           NaN  \n",
      "169  106  127   16   13    6   25  43  216        NaN           NaN  \n",
      "180   24   26   25    4    1   17  15  121        NaN           NaN  \n",
      "186    3    3    3    2    0    7  11   20        NaN           NaN  \n",
      "191    2    3    0    0    1    0   2    4        NaN           NaN  \n",
      "194    5   10    3    4    0    5  16   48        NaN           NaN  \n",
      "195   63   86   18   13    3   12  47   95        NaN           NaN  \n",
      "205   20   25   12    9    1   11  16   80        NaN           NaN  \n",
      "211   34   41   55   10    2   21  18  166        NaN           NaN  \n",
      "\n",
      "[21 rows x 32 columns]\n"
     ]
    }
   ],
   "source": [
    "# Load salary data\n",
    "salary = pd.read_csv(os.path.join(raw_salary, 'nba_salaries_2019-2020.csv'))\n",
    "\n",
    "# Remove accents from the 'Player' column\n",
    "salary['Player'] = salary['Player'].apply(unidecode)\n",
    "\n",
    "# Add salary column to the stats dataframes\n",
    "df = dfs['2019-2020 NBA Player Stats - Playoffs.csv']\n",
    "df = df.merge(salary, on='Player', how='left')\n",
    "\n",
    "# Check for missing salaries\n",
    "missing_salaries = df[df['2019-2020'].isnull()]\n",
    "print(missing_salaries)\n",
    "\n",
    "# Save to clean directory\n",
    "df.to_csv(os.path.join(clean_salary, 'nba_salaries_2019-2020.csv'), index=False)\n"
   ]
  }
 ],
 "metadata": {
  "kernelspec": {
   "display_name": "nba-salary-model",
   "language": "python",
   "name": "python3"
  },
  "language_info": {
   "codemirror_mode": {
    "name": "ipython",
    "version": 3
   },
   "file_extension": ".py",
   "mimetype": "text/x-python",
   "name": "python",
   "nbconvert_exporter": "python",
   "pygments_lexer": "ipython3",
   "version": "3.10.8"
  }
 },
 "nbformat": 4,
 "nbformat_minor": 2
}
