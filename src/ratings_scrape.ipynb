{
 "cells": [
  {
   "cell_type": "code",
   "execution_count": 5,
   "metadata": {},
   "outputs": [],
   "source": [
    "import requests\n",
    "import pandas as pd\n",
    "from bs4 import BeautifulSoup\n",
    "import os"
   ]
  },
  {
   "cell_type": "code",
   "execution_count": 2,
   "metadata": {},
   "outputs": [],
   "source": [
    "# Downloading contents of the web page\n",
    "years = ['2019-2020', '2020-2021', '2021-2022', '2022-2023']\n",
    "url = {\n",
    "    '2019-2020': 'https://hoopshype.com/nba2k/2019-2020/',\n",
    "    '2020-2021': 'https://hoopshype.com/nba2k/2020-2021/',\n",
    "    '2021-2022': 'https://hoopshype.com/nba2k/2021-2022/',\n",
    "    '2022-2023': 'https://hoopshype.com/nba2k/2022-2023/'\n",
    "}\n",
    "data = {\n",
    "    '2019-2020': requests.get(url['2019-2020']).text,\n",
    "    '2020-2021': requests.get(url['2020-2021']).text,\n",
    "    '2021-2022': requests.get(url['2021-2022']).text,\n",
    "    '2022-2023': requests.get(url['2022-2023']).text\n",
    "}"
   ]
  },
  {
   "cell_type": "code",
   "execution_count": 6,
   "metadata": {},
   "outputs": [],
   "source": [
    "# Defining of the dataframe\n",
    "table_class = \"hh-salaries-ranking-table hh-salaries-table-sortable responsive\"\n",
    "top_folder = os.path.dirname(os.getcwd())\n",
    "\n",
    "for year in years:\n",
    "    soup = BeautifulSoup(data[year], 'html.parser')\n",
    "    table = soup.find('table', {'class': table_class})\n",
    "    df = pd.DataFrame(columns=['Player', 'Rating'])\n",
    "\n",
    "    # Collecting Ddata\n",
    "    for row in table.tbody.find_all('tr'):    \n",
    "        # Find all data for each column\n",
    "        columns = row.find_all('td')\n",
    "        \n",
    "        if(columns != []):\n",
    "            player = columns[1].text.strip()\n",
    "            rating = columns[2].text.strip()\n",
    "\n",
    "            df = df._append({'Player': player, 'Rating': rating}, ignore_index=True)\n",
    "\n",
    "    # Exporting the dataframe to a csv file\n",
    "    df.to_csv(f'{top_folder}/data/raw/nba2k/{year}.csv', index=False)"
   ]
  }
 ],
 "metadata": {
  "kernelspec": {
   "display_name": "nba-salary-model",
   "language": "python",
   "name": "python3"
  },
  "language_info": {
   "codemirror_mode": {
    "name": "ipython",
    "version": 3
   },
   "file_extension": ".py",
   "mimetype": "text/x-python",
   "name": "python",
   "nbconvert_exporter": "python",
   "pygments_lexer": "ipython3",
   "version": "3.10.8"
  }
 },
 "nbformat": 4,
 "nbformat_minor": 2
}
