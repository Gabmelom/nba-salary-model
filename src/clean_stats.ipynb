{
 "cells": [
  {
   "cell_type": "code",
   "execution_count": 2,
   "metadata": {},
   "outputs": [],
   "source": [
    "import pandas as pd\n",
    "from unidecode import unidecode\n",
    "import os\n",
    "import collections"
   ]
  },
  {
   "cell_type": "code",
   "execution_count": 9,
   "metadata": {},
   "outputs": [],
   "source": [
    "# Path names\n",
    "folder = os.path.dirname(os.getcwd())\n",
    "raw_stats = os.path.join(folder, 'data', 'raw', 'stats')\n",
    "clean_stats = os.path.join(folder, 'data', 'clean', 'stats')"
   ]
  },
  {
   "cell_type": "markdown",
   "metadata": {},
   "source": [
    "Normalize player names with foreign accents. E.g. Luka Dončić -> Luka Doncic"
   ]
  },
  {
   "cell_type": "code",
   "execution_count": 10,
   "metadata": {},
   "outputs": [],
   "source": [
    "# Store dataframes in a dictionary, with the file name as the key\n",
    "dfs = {}\n",
    "\n",
    "for file in os.listdir(raw_stats):\n",
    "    if file.endswith('.csv'):\n",
    "        # Read the file\n",
    "        df = pd.read_csv(os.path.join(raw_stats, file))\n",
    "        # Remove accents from the 'Player' column\n",
    "        df['Player'] = df['Player'].apply(unidecode)\n",
    "\n",
    "        # Save to dictionary\n",
    "        dfs[file] = df\n",
    "        "
   ]
  },
  {
   "cell_type": "markdown",
   "metadata": {},
   "source": [
    "Save all player names for reference"
   ]
  },
  {
   "cell_type": "code",
   "execution_count": 11,
   "metadata": {},
   "outputs": [],
   "source": [
    "players = set()\n",
    "\n",
    "for key in dfs:\n",
    "    players = players.union(dfs[key]['Player'])\n",
    "\n",
    "# Save in file\n",
    "with open('players.txt', 'w') as f:\n",
    "    for player in players:\n",
    "        f.write(player + '\\n')"
   ]
  },
  {
   "cell_type": "markdown",
   "metadata": {},
   "source": [
    "Merge player performance statistics if they played in various teams"
   ]
  },
  {
   "cell_type": "code",
   "execution_count": 12,
   "metadata": {},
   "outputs": [],
   "source": [
    "# Create function to remove duplicates and sum the values\n",
    "def remove_duplicates(df):\n",
    "    # If more than one row has the same rank and player name, merge into one row, summing the values\n",
    "    df = df.groupby(['Rk', 'Player']).sum().reset_index()\n",
    "\n",
    "    # Re-calculate percentage based stats: FG%, 3P%, 2P%, eFG%, FT%\n",
    "    # Round to 3 decimal places\n",
    "    df['FG%'] = (df['FG'] / df['FGA']).round(3)\n",
    "    df['3P%'] = (df['3P'] / df['3PA']).round(3)\n",
    "    df['2P%'] = (df['2P'] / df['2PA']).round(3)\n",
    "    df['eFG%'] = ((df['FG'] + 0.5 * df['3P']) / df['FGA']).round(3)\n",
    "    df['FT%'] = (df['FT'] / df['FTA']).round(3)\n",
    "\n",
    "    return df"
   ]
  },
  {
   "cell_type": "code",
   "execution_count": 13,
   "metadata": {},
   "outputs": [],
   "source": [
    "for file, df in dfs.items():\n",
    "    # Remove duplicates of all dataframes\n",
    "    dfs[file] = remove_duplicates(df)\n",
    "\n",
    "    # Drop column 'Player-additional' if it exists\n",
    "    if 'Player-additional' in dfs[file].columns:\n",
    "        dfs[file].drop('Player-additional', axis=1, inplace=True)\n",
    "\n",
    "    # Print the column names\n",
    "    # print(dfs[file].columns)\n",
    "\n",
    "    # Save to clean directory\n",
    "    dfs[file].to_csv(os.path.join(clean_stats, file), index=False)"
   ]
  }
 ],
 "metadata": {
  "kernelspec": {
   "display_name": "nba-salary-model",
   "language": "python",
   "name": "python3"
  },
  "language_info": {
   "codemirror_mode": {
    "name": "ipython",
    "version": 3
   },
   "file_extension": ".py",
   "mimetype": "text/x-python",
   "name": "python",
   "nbconvert_exporter": "python",
   "pygments_lexer": "ipython3",
   "version": "3.10.8"
  }
 },
 "nbformat": 4,
 "nbformat_minor": 2
}
