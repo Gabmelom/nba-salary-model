{
 "cells": [
  {
   "cell_type": "code",
   "execution_count": 1,
   "metadata": {},
   "outputs": [],
   "source": [
    "import requests\n",
    "import pandas as pd\n",
    "from bs4 import BeautifulSoup"
   ]
  },
  {
   "cell_type": "code",
   "execution_count": 13,
   "metadata": {},
   "outputs": [
    {
     "name": "stdout",
     "output_type": "stream",
     "text": [
      "          Player\n",
      "0     Trey Lyles\n",
      "1   Jusuf Nurkic\n",
      "2  Johnny Juzang\n",
      "3      Raul Neto\n",
      "4  Jontay Porter\n"
     ]
    }
   ],
   "source": [
    "import os\n",
    "top_folder = os.path.dirname(os.getcwd())\n",
    "file = os.path.join(top_folder, 'data', 'players.txt')\n",
    "\n",
    "# Get the player names, name column 'Player'\n",
    "df = pd.read_csv(file, header=None)\n",
    "df.columns = ['Player']\n",
    "\n",
    "print(df.head())"
   ]
  },
  {
   "cell_type": "markdown",
   "metadata": {},
   "source": [
    "Get player urls to extract 2k ratings, add urls to dataframe"
   ]
  },
  {
   "cell_type": "code",
   "execution_count": 42,
   "metadata": {},
   "outputs": [
    {
     "name": "stdout",
     "output_type": "stream",
     "text": [
      "https://2kdb.net/players/20?freeAgents=false&name=Trey%20Lyles&page=1&pageSize=50\n",
      "[]\n"
     ]
    }
   ],
   "source": [
    "# URL to scrape\n",
    "from time import sleep\n",
    "years = [20, 21, 22, 23]\n",
    "link_class = 'hover:bg-gray-500/20 absolute top-0 left-0 w-full h-[48.5px] z-[1]'\n",
    "\n",
    "# Save one file per year\n",
    "for year in years:\n",
    "    # Make a request to the website per player, print the response, throttle the requests\n",
    "    for player in df['Player']:\n",
    "        player = player.replace(' ', '%20')\n",
    "        url = f'https://2kdb.net/players/{year}?freeAgents=false&name={player}&page=1&pageSize=50'\n",
    "        print(url)\n",
    "\n",
    "        page = requests.get(url)\n",
    "        # Save response to file\n",
    "        with open('response.html', 'w') as f:\n",
    "            f.write(page.text)\n",
    "        \n",
    "        soup = BeautifulSoup(page.text, 'html.parser')\n",
    "        links = soup.find_all('a', class_=link_class)\n",
    "        print(links)\n",
    "        break\n",
    "    break"
   ]
  }
 ],
 "metadata": {
  "kernelspec": {
   "display_name": "nba-salary-model",
   "language": "python",
   "name": "python3"
  },
  "language_info": {
   "codemirror_mode": {
    "name": "ipython",
    "version": 3
   },
   "file_extension": ".py",
   "mimetype": "text/x-python",
   "name": "python",
   "nbconvert_exporter": "python",
   "pygments_lexer": "ipython3",
   "version": "3.10.8"
  }
 },
 "nbformat": 4,
 "nbformat_minor": 2
}
