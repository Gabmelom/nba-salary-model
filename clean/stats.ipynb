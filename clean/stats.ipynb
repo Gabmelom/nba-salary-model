{
 "cells": [
  {
   "cell_type": "code",
   "execution_count": 16,
   "metadata": {},
   "outputs": [],
   "source": [
    "import pandas as pd\n",
    "from unidecode import unidecode"
   ]
  },
  {
   "cell_type": "code",
   "execution_count": 33,
   "metadata": {},
   "outputs": [
    {
     "name": "stdout",
     "output_type": "stream",
     "text": [
      "   Rk            Player Pos  Age   Tm   G  GS    MP   FG   FGA  ...  ORB  DRB  \\\n",
      "0   1  Precious Achiuwa   C   23  TOR  55  12  20.7  3.6   7.3  ...  1.8  4.1   \n",
      "1   2      Steven Adams   C   29  MEM  42  42  27.0  3.7   6.3  ...  5.1  6.5   \n",
      "2   3       Bam Adebayo   C   25  MIA  75  75  34.6  8.0  14.9  ...  2.5  6.7   \n",
      "3   4      Ochai Agbaji  SG   22  UTA  59  22  20.5  2.8   6.5  ...  0.7  1.3   \n",
      "4   5      Santi Aldama  PF   22  MEM  77  20  21.8  3.2   6.8  ...  1.1  3.7   \n",
      "\n",
      "    TRB  AST  STL  BLK  TOV   PF   PTS  Player-additional  \n",
      "0   6.0  0.9  0.6  0.5  1.1  1.9   9.2          achiupr01  \n",
      "1  11.5  2.3  0.9  1.1  1.9  2.3   8.6          adamsst01  \n",
      "2   9.2  3.2  1.2  0.8  2.5  2.8  20.4          adebaba01  \n",
      "3   2.1  1.1  0.3  0.3  0.7  1.7   7.9          agbajoc01  \n",
      "4   4.8  1.3  0.6  0.6  0.8  1.9   9.0          aldamsa01  \n",
      "\n",
      "[5 rows x 31 columns]\n"
     ]
    }
   ],
   "source": [
    "import os\n",
    "# Get all files in the 'stats' directory \n",
    "file_path = os.path.join(os.path.dirname(os.getcwd()),'raw','stats')\n",
    "clean_path = os.path.join(os.path.dirname(os.getcwd()),'clean','stats')\n",
    "files = os.listdir(file_path)\n",
    "\n",
    "for file in files:\n",
    "    if file.endswith('.csv'):\n",
    "        # Read the file\n",
    "        df = pd.read_csv(os.path.join(file_path, file))\n",
    "        # Remove accents from the 'Player' column\n",
    "        df['Player'] = df['Player'].apply(unidecode)\n",
    "        # Save the file\n",
    "        df.to_csv(os.path.join(clean_path, 'clean_'+file), index=False)\n",
    "\n",
    "print(df.head())"
   ]
  }
 ],
 "metadata": {
  "kernelspec": {
   "display_name": "nba-salary-model",
   "language": "python",
   "name": "python3"
  },
  "language_info": {
   "codemirror_mode": {
    "name": "ipython",
    "version": 3
   },
   "file_extension": ".py",
   "mimetype": "text/x-python",
   "name": "python",
   "nbconvert_exporter": "python",
   "pygments_lexer": "ipython3",
   "version": "3.10.8"
  }
 },
 "nbformat": 4,
 "nbformat_minor": 2
}
