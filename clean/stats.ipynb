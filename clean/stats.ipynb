{
 "cells": [
  {
   "cell_type": "code",
   "execution_count": 67,
   "metadata": {},
   "outputs": [],
   "source": [
    "import pandas as pd\n",
    "from unidecode import unidecode\n",
    "import os\n",
    "import collections"
   ]
  },
  {
   "cell_type": "markdown",
   "metadata": {},
   "source": [
    "Normalize player names with foreign accents. E.g. Luka Dončić -> Luka Doncic"
   ]
  },
  {
   "cell_type": "code",
   "execution_count": 68,
   "metadata": {},
   "outputs": [],
   "source": [
    "# Get all files in the 'stats' directory \n",
    "file_path = os.path.join(os.path.dirname(os.getcwd()),'raw','stats')\n",
    "clean_path = os.path.join(os.path.dirname(os.getcwd()),'clean','stats')\n",
    "files = os.listdir(file_path)\n",
    "\n",
    "# Store dataframes in a dictionary, with the file name as the key\n",
    "dfs = {}\n",
    "\n",
    "for file in files:\n",
    "    if file.endswith('.csv'):\n",
    "        # Read the file\n",
    "        df = pd.read_csv(os.path.join(file_path, file))\n",
    "        # Remove accents from the 'Player' column\n",
    "        df['Player'] = df['Player'].apply(unidecode)\n",
    "\n",
    "        # Save to dictionary\n",
    "        dfs[file] = df\n",
    "        "
   ]
  },
  {
   "cell_type": "markdown",
   "metadata": {},
   "source": [
    "Merge player performance statistics if they played in various teams"
   ]
  },
  {
   "cell_type": "code",
   "execution_count": 69,
   "metadata": {},
   "outputs": [],
   "source": [
    "# Create function to remove duplicates and sum the values\n",
    "def remove_duplicates(df):\n",
    "    # If more than one row has the same rank and player name, merge into one row, summing the values\n",
    "    df = df.groupby(['Rk', 'Player']).sum().reset_index()\n",
    "\n",
    "    # Re-calculate percentage based stats: FG%, 3P%, 2P%, eFG%, FT%\n",
    "    # Round to 3 decimal places\n",
    "    df['FG%'] = (df['FG'] / df['FGA']).round(3)\n",
    "    df['3P%'] = (df['3P'] / df['3PA']).round(3)\n",
    "    df['2P%'] = (df['2P'] / df['2PA']).round(3)\n",
    "    df['eFG%'] = ((df['FG'] + 0.5 * df['3P']) / df['FGA']).round(3)\n",
    "    df['FT%'] = (df['FT'] / df['FTA']).round(3)\n",
    "\n",
    "    return df"
   ]
  },
  {
   "cell_type": "code",
   "execution_count": 72,
   "metadata": {},
   "outputs": [
    {
     "name": "stdout",
     "output_type": "stream",
     "text": [
      "Index(['Rk', 'Player', 'Pos', 'Age', 'Tm', 'G', 'GS', 'MP', 'FG', 'FGA', 'FG%',\n",
      "       '3P', '3PA', '3P%', '2P', '2PA', '2P%', 'eFG%', 'FT', 'FTA', 'FT%',\n",
      "       'ORB', 'DRB', 'TRB', 'AST', 'STL', 'BLK', 'TOV', 'PF', 'PTS'],\n",
      "      dtype='object')\n",
      "Index(['Rk', 'Player', 'Pos', 'Age', 'Tm', 'G', 'GS', 'MP', 'FG', 'FGA', 'FG%',\n",
      "       '3P', '3PA', '3P%', '2P', '2PA', '2P%', 'eFG%', 'FT', 'FTA', 'FT%',\n",
      "       'ORB', 'DRB', 'TRB', 'AST', 'STL', 'BLK', 'TOV', 'PF', 'PTS'],\n",
      "      dtype='object')\n",
      "Index(['Rk', 'Player', 'Pos', 'Age', 'Tm', 'G', 'GS', 'MP', 'FG', 'FGA', 'FG%',\n",
      "       '3P', '3PA', '3P%', '2P', '2PA', '2P%', 'eFG%', 'FT', 'FTA', 'FT%',\n",
      "       'ORB', 'DRB', 'TRB', 'AST', 'STL', 'BLK', 'TOV', 'PF', 'PTS'],\n",
      "      dtype='object')\n",
      "Index(['Rk', 'Player', 'Pos', 'Age', 'Tm', 'G', 'GS', 'MP', 'FG', 'FGA', 'FG%',\n",
      "       '3P', '3PA', '3P%', '2P', '2PA', '2P%', 'eFG%', 'FT', 'FTA', 'FT%',\n",
      "       'ORB', 'DRB', 'TRB', 'AST', 'STL', 'BLK', 'TOV', 'PF', 'PTS'],\n",
      "      dtype='object')\n",
      "Index(['Rk', 'Player', 'Pos', 'Age', 'Tm', 'G', 'GS', 'MP', 'FG', 'FGA', 'FG%',\n",
      "       '3P', '3PA', '3P%', '2P', '2PA', '2P%', 'eFG%', 'FT', 'FTA', 'FT%',\n",
      "       'ORB', 'DRB', 'TRB', 'AST', 'STL', 'BLK', 'TOV', 'PF', 'PTS'],\n",
      "      dtype='object')\n",
      "Index(['Rk', 'Player', 'Pos', 'Age', 'Tm', 'G', 'GS', 'MP', 'FG', 'FGA', 'FG%',\n",
      "       '3P', '3PA', '3P%', '2P', '2PA', '2P%', 'eFG%', 'FT', 'FTA', 'FT%',\n",
      "       'ORB', 'DRB', 'TRB', 'AST', 'STL', 'BLK', 'TOV', 'PF', 'PTS'],\n",
      "      dtype='object')\n",
      "Index(['Rk', 'Player', 'Pos', 'Age', 'Tm', 'G', 'GS', 'MP', 'FG', 'FGA', 'FG%',\n",
      "       '3P', '3PA', '3P%', '2P', '2PA', '2P%', 'eFG%', 'FT', 'FTA', 'FT%',\n",
      "       'ORB', 'DRB', 'TRB', 'AST', 'STL', 'BLK', 'TOV', 'PF', 'PTS'],\n",
      "      dtype='object')\n",
      "Index(['Rk', 'Player', 'Pos', 'Age', 'Tm', 'G', 'GS', 'MP', 'FG', 'FGA', 'FG%',\n",
      "       '3P', '3PA', '3P%', '2P', '2PA', '2P%', 'eFG%', 'FT', 'FTA', 'FT%',\n",
      "       'ORB', 'DRB', 'TRB', 'AST', 'STL', 'BLK', 'TOV', 'PF', 'PTS'],\n",
      "      dtype='object')\n"
     ]
    }
   ],
   "source": [
    "for file, df in dfs.items():\n",
    "    # Remove duplicates of all dataframes\n",
    "    dfs[file] = remove_duplicates(df)\n",
    "\n",
    "    # Drop column 'Player-additional' if it exists\n",
    "    if 'Player-additional' in dfs[file].columns:\n",
    "        dfs[file].drop('Player-additional', axis=1, inplace=True)\n",
    "\n",
    "    # Print the column names\n",
    "    print(dfs[file].columns)\n",
    "\n",
    "    # Save to clean directory\n",
    "    dfs[file].to_csv(os.path.join(clean_path, file), index=False)"
   ]
  }
 ],
 "metadata": {
  "kernelspec": {
   "display_name": "nba-salary-model",
   "language": "python",
   "name": "python3"
  },
  "language_info": {
   "codemirror_mode": {
    "name": "ipython",
    "version": 3
   },
   "file_extension": ".py",
   "mimetype": "text/x-python",
   "name": "python",
   "nbconvert_exporter": "python",
   "pygments_lexer": "ipython3",
   "version": "3.10.8"
  }
 },
 "nbformat": 4,
 "nbformat_minor": 2
}
